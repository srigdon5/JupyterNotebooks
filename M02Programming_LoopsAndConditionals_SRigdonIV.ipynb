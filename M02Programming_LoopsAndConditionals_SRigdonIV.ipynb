{
 "cells": [
  {
   "cell_type": "markdown",
   "metadata": {},
   "source": [
    "4.1 Choose a number between 1 and 10 and assign it to the variable secret. Then, select another number between 1 and 10 and assign it to the variable guess. Next, write the conditional tests (if, else, and elif) to print the string 'too low' if guess is less than secret, 'too high' if greater than secret, and 'just right' if equal to secret."
   ]
  },
  {
   "cell_type": "markdown",
   "metadata": {},
   "source": [
    "Set Veriables"
   ]
  },
  {
   "cell_type": "code",
   "execution_count": 64,
   "metadata": {},
   "outputs": [],
   "source": [
    "secret=7\n",
    "guess=4"
   ]
  },
  {
   "cell_type": "markdown",
   "metadata": {},
   "source": [
    "If-elif-else block with try-except to ensure type safety"
   ]
  },
  {
   "cell_type": "code",
   "execution_count": 9,
   "metadata": {},
   "outputs": [
    {
     "name": "stdout",
     "output_type": "stream",
     "text": [
      "Too Low\n"
     ]
    }
   ],
   "source": [
    "try:\n",
    "    if guess == secret:\n",
    "        print('just right')\n",
    "\n",
    "    elif guess > secret:\n",
    "        print('Too High')\n",
    "\n",
    "    elif guess < secret:\n",
    "        print('Too Low')\n",
    "except TypeError as e:\n",
    "    print(f'An error has.\\nError: {e}')\n",
    "    print('Ensure that your guess is entered as a numerical value')\n",
    "except Exception as e:\n",
    "    print(f'An error has.\\nError: {e}')"
   ]
  },
  {
   "cell_type": "markdown",
   "metadata": {},
   "source": [
    "4.2 Assign True or False to the variables small and green. Write some if/else statements to print which of these matches those choices: cherry, pea, watermelon, pumpkin."
   ]
  },
  {
   "cell_type": "code",
   "execution_count": 25,
   "metadata": {},
   "outputs": [],
   "source": [
    "small=True\n",
    "green=False"
   ]
  },
  {
   "cell_type": "markdown",
   "metadata": {},
   "source": [
    "Create a function to print our variables formated"
   ]
  },
  {
   "cell_type": "code",
   "execution_count": 26,
   "metadata": {},
   "outputs": [],
   "source": [
    "def print_small_green():\n",
    "    print(f'Small: {small}\\nGreen: {green}')"
   ]
  },
  {
   "cell_type": "markdown",
   "metadata": {},
   "source": [
    "Create a variable called choice"
   ]
  },
  {
   "cell_type": "code",
   "execution_count": 40,
   "metadata": {},
   "outputs": [],
   "source": [
    "choice='pumpkin'"
   ]
  },
  {
   "cell_type": "markdown",
   "metadata": {},
   "source": [
    "Create if-elif-else block with type safety. Since this won't throw an exception we use type() to check the variable is the correct type"
   ]
  },
  {
   "cell_type": "code",
   "execution_count": 42,
   "metadata": {},
   "outputs": [
    {
     "name": "stdout",
     "output_type": "stream",
     "text": [
      "Small: False\n",
      "Green: False\n"
     ]
    }
   ],
   "source": [
    "if type(choice) is str:\n",
    "    if choice == 'cherry':\n",
    "        small = True\n",
    "        green = False\n",
    "    elif choice == 'pea':\n",
    "        small = True\n",
    "        green = True\n",
    "    elif choice == 'watermelon':\n",
    "        small = False\n",
    "        green = True\n",
    "    elif choice == 'pumpkin':\n",
    "        small = False\n",
    "        green = False\n",
    "    else:\n",
    "        small = 'Unknown'\n",
    "        green = 'Unknown'\n",
    "    print_small_green()\n",
    "else:\n",
    "    print(\"Please enter only a string for choice\")\n",
    "    "
   ]
  },
  {
   "cell_type": "markdown",
   "metadata": {},
   "source": [
    "Can also be done using match-case"
   ]
  },
  {
   "cell_type": "code",
   "execution_count": 44,
   "metadata": {},
   "outputs": [
    {
     "name": "stdout",
     "output_type": "stream",
     "text": [
      "Small: False\n",
      "Green: False\n"
     ]
    }
   ],
   "source": [
    "if type(choice) is str:\n",
    "    match choice:\n",
    "        case 'cherry':\n",
    "            small = True\n",
    "            green = False            \n",
    "        case 'pea':\n",
    "            small = True\n",
    "            green = True            \n",
    "        case 'watermelon':\n",
    "            small =  False\n",
    "            green = True            \n",
    "        case 'pumpkin':\n",
    "            small = False\n",
    "            green = False\n",
    "        case _:\n",
    "            small = 'Unknown'\n",
    "            green = 'Unknown'\n",
    "    print_small_green()\n",
    "else:\n",
    "    print(\"Please enter only a string for choice\")\n",
    "    "
   ]
  },
  {
   "cell_type": "markdown",
   "metadata": {},
   "source": [
    "6.1 Use a for loop to print the values of the list [3, 2, 1, 0]."
   ]
  },
  {
   "cell_type": "markdown",
   "metadata": {},
   "source": [
    "Define list variable"
   ]
  },
  {
   "cell_type": "code",
   "execution_count": 45,
   "metadata": {},
   "outputs": [],
   "source": [
    "my_list = [3, 2, 1, 0]"
   ]
  },
  {
   "cell_type": "markdown",
   "metadata": {},
   "source": [
    "Iterate in for loop to print"
   ]
  },
  {
   "cell_type": "code",
   "execution_count": 46,
   "metadata": {},
   "outputs": [
    {
     "name": "stdout",
     "output_type": "stream",
     "text": [
      "3\n",
      "2\n",
      "1\n",
      "0\n"
     ]
    }
   ],
   "source": [
    "for i in my_list:\n",
    "    print(i)"
   ]
  },
  {
   "cell_type": "markdown",
   "metadata": {},
   "source": [
    "6.2 Assign the value 7 to the variable guess_me, and the value 1 to the variable number. Write a while loop that compares number with guess_me. Print 'too low' if number is less than guess me. If number equals guess_me, print 'found it!' and then exit the loop. If number is greater than guess_me, print 'oops' and then exit the loop. Increment number at the end of the loop."
   ]
  },
  {
   "cell_type": "markdown",
   "metadata": {},
   "source": [
    "Create variables guess_me and number"
   ]
  },
  {
   "cell_type": "code",
   "execution_count": 58,
   "metadata": {},
   "outputs": [],
   "source": [
    "guess_me = 7\n",
    "number = 1"
   ]
  },
  {
   "cell_type": "markdown",
   "metadata": {},
   "source": [
    "Create while loop with type safety to iterate over guess and increae or decrease as needed"
   ]
  },
  {
   "cell_type": "code",
   "execution_count": 54,
   "metadata": {},
   "outputs": [
    {
     "name": "stdout",
     "output_type": "stream",
     "text": [
      "too low\n",
      "too low\n",
      "too low\n",
      "too low\n",
      "too low\n",
      "too low\n",
      "Found it!\n"
     ]
    }
   ],
   "source": [
    "if type(number) is int:\n",
    "    while True:\n",
    "        if number < guess_me:\n",
    "            print('too low')\n",
    "            number += 1\n",
    "            continue\n",
    "        \n",
    "        elif number > guess_me:\n",
    "            print('oops')\n",
    "            break\n",
    "        \n",
    "        else:\n",
    "            print('Found it!')\n",
    "            break\n",
    "    "
   ]
  },
  {
   "cell_type": "markdown",
   "metadata": {},
   "source": [
    "This does work but can be made simpler and able to handle more use cases with a simple change, don;t use while true and decrement if too high"
   ]
  },
  {
   "cell_type": "code",
   "execution_count": 59,
   "metadata": {},
   "outputs": [
    {
     "name": "stdout",
     "output_type": "stream",
     "text": [
      "too low\n",
      "too low\n",
      "too low\n",
      "too low\n",
      "too low\n",
      "too low\n",
      "Found it!\n"
     ]
    }
   ],
   "source": [
    "if type(number) is int:\n",
    "    while number != guess_me:\n",
    "        if number < guess_me:\n",
    "            print('too low')\n",
    "            number += 1\n",
    "            continue\n",
    "        \n",
    "        elif number > guess_me:\n",
    "            print('too high')\n",
    "            number -= 1\n",
    "            continue\n",
    "    \n",
    "    print('Found it!')"
   ]
  },
  {
   "cell_type": "markdown",
   "metadata": {},
   "source": [
    "6.3 Assign the value 5 to the variable guess_me. Use a for loop to iterate a variable called number over range(10). If number is less than guess_me, print 'too low'. If it equals guess_me, print found it! and then break out of the for loop. If number is greater than guess_me, print 'oops' and then exit the loop."
   ]
  },
  {
   "cell_type": "markdown",
   "metadata": {},
   "source": [
    "Assign variable"
   ]
  },
  {
   "cell_type": "code",
   "execution_count": 60,
   "metadata": {},
   "outputs": [],
   "source": [
    "guess_me = 5"
   ]
  },
  {
   "cell_type": "markdown",
   "metadata": {},
   "source": [
    "Iterate over range"
   ]
  },
  {
   "cell_type": "code",
   "execution_count": 63,
   "metadata": {},
   "outputs": [
    {
     "name": "stdout",
     "output_type": "stream",
     "text": [
      "too low\n",
      "too low\n",
      "too low\n",
      "too low\n",
      "too low\n",
      "Found it!\n"
     ]
    }
   ],
   "source": [
    "for i in range(10):\n",
    "    if i < guess_me:\n",
    "        print('too low')\n",
    "    elif i > guess_me:\n",
    "        print('oops')\n",
    "        break\n",
    "    else:\n",
    "        print('Found it!')\n",
    "        break"
   ]
  }
 ],
 "metadata": {
  "kernelspec": {
   "display_name": "Python 3",
   "language": "python",
   "name": "python3"
  },
  "language_info": {
   "codemirror_mode": {
    "name": "ipython",
    "version": 3
   },
   "file_extension": ".py",
   "mimetype": "text/x-python",
   "name": "python",
   "nbconvert_exporter": "python",
   "pygments_lexer": "ipython3",
   "version": "3.10.5"
  }
 },
 "nbformat": 4,
 "nbformat_minor": 2
}
