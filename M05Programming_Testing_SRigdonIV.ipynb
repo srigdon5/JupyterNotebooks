{
 "cells": [
  {
   "cell_type": "markdown",
   "metadata": {},
   "source": [
    "An Example of a simple test, no output due to being a passed test"
   ]
  },
  {
   "cell_type": "code",
   "execution_count": 1,
   "metadata": {},
   "outputs": [],
   "source": [
    "assert sum([1, 2, 3]) == 6, 'Should be 6'"
   ]
  },
  {
   "cell_type": "markdown",
   "metadata": {},
   "source": [
    "Failed tests will give AssertionError"
   ]
  },
  {
   "cell_type": "code",
   "execution_count": 2,
   "metadata": {},
   "outputs": [
    {
     "ename": "AssertionError",
     "evalue": "Should be 6",
     "output_type": "error",
     "traceback": [
      "\u001b[1;31m---------------------------------------------------------------------------\u001b[0m",
      "\u001b[1;31mAssertionError\u001b[0m                            Traceback (most recent call last)",
      "\u001b[1;32md:\\Documents\\College Stuffs\\SDEV 220 Python\\repos\\JupyterNotebooks\\M05Programming_Testing_SRigdonIV.ipynb Cell 4\u001b[0m line \u001b[0;36m1\n\u001b[1;32m----> <a href='vscode-notebook-cell:/d%3A/Documents/College%20Stuffs/SDEV%20220%20Python/repos/JupyterNotebooks/M05Programming_Testing_SRigdonIV.ipynb#W5sZmlsZQ%3D%3D?line=0'>1</a>\u001b[0m \u001b[39massert\u001b[39;00m \u001b[39msum\u001b[39m([\u001b[39m1\u001b[39m, \u001b[39m1\u001b[39m, \u001b[39m1\u001b[39m]) \u001b[39m==\u001b[39m \u001b[39m6\u001b[39m, \u001b[39m'\u001b[39m\u001b[39mShould be 6\u001b[39m\u001b[39m'\u001b[39m\n",
      "\u001b[1;31mAssertionError\u001b[0m: Should be 6"
     ]
    }
   ],
   "source": [
    "assert sum([1, 1, 1]) == 6, 'Should be 6'"
   ]
  },
  {
   "cell_type": "markdown",
   "metadata": {},
   "source": [
    "test_sum.py has an example of how to make a test case, when ran it will test the sum funtion using a list and a tuple"
   ]
  },
  {
   "cell_type": "markdown",
   "metadata": {},
   "source": [
    "test_sum.py shows how to run the same tests using unittest"
   ]
  },
  {
   "cell_type": "markdown",
   "metadata": {},
   "source": [
    "Assertion Methods\n",
    "| Method | Equivalent to |\n",
    "| --- | --- |\n",
    "| .assertEqual(a, b) | a == b |\n",
    "| .assertTrue(x) | bool(x) is True |\n",
    "| .assertFalse(x) | bool(x) is False |\n",
    "| .assertIs(a, b) | a is b |\n",
    "| .assertIsNone(x) | x is None |\n",
    "| .assertIn(a, b) | a in b |\n",
    "| .assertIsInstance(a, b) | isinstance(a, b) |"
   ]
  },
  {
   "cell_type": "markdown",
   "metadata": {},
   "source": [
    "Tutorial files can be found in M05_Project. When these files are run we get a result of \"F.\" This indicates that a single test passed adn a single test failed. Reading furthur down the ouput we see that the fractions sum is teh one that failed, the reason being that our assertion was incorrect and the sum of the three fractions is not actually 1."
   ]
  }
 ],
 "metadata": {
  "kernelspec": {
   "display_name": "Python 3",
   "language": "python",
   "name": "python3"
  },
  "language_info": {
   "codemirror_mode": {
    "name": "ipython",
    "version": 3
   },
   "file_extension": ".py",
   "mimetype": "text/x-python",
   "name": "python",
   "nbconvert_exporter": "python",
   "pygments_lexer": "ipython3",
   "version": "3.10.5"
  }
 },
 "nbformat": 4,
 "nbformat_minor": 2
}
